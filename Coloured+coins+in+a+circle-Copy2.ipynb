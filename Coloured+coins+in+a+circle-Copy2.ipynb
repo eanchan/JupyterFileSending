{
 "cells": [
  {
   "cell_type": "markdown",
   "metadata": {},
   "source": [
    "Find factors and import functions"
   ]
  },
  {
   "cell_type": "code",
   "execution_count": 1,
   "metadata": {
    "collapsed": true
   },
   "outputs": [],
   "source": [
    "    from math import factorial as fct\n",
    "    from numpy import product as prod\n",
    "    from time import sleep as sleep\n",
    "    from numpy.random import randint as rand\n"
   ]
  },
  {
   "cell_type": "code",
   "execution_count": 2,
   "metadata": {
    "collapsed": false
   },
   "outputs": [],
   "source": [
    "def factors(x):\n",
    "    y = []\n",
    "    for k in range(1,int(x/2) + 1):\n",
    "        if x % k == 0:\n",
    "            #print(k)\n",
    "            y.append(k)\n",
    "    y.append(x)\n",
    "    return y"
   ]
  },
  {
   "cell_type": "markdown",
   "metadata": {},
   "source": [
    "Two colour case, half-half"
   ]
  },
  {
   "cell_type": "code",
   "execution_count": 3,
   "metadata": {
    "collapsed": false
   },
   "outputs": [],
   "source": [
    "def g(x):\n",
    "    if x % 2 != 0:\n",
    "        return 0\n",
    "    j = 0\n",
    "    for k in factors(x)[:-1]:\n",
    "        j += g(k) * k\n",
    "    f = int(math.factorial(x/2))\n",
    "    return int((math.factorial(x)/f**2 - j)/x)"
   ]
  },
  {
   "cell_type": "code",
   "execution_count": 4,
   "metadata": {
    "collapsed": true
   },
   "outputs": [],
   "source": [
    "def f(x):\n",
    "    j = 0\n",
    "    for k in factors(x)[:]:\n",
    "        j += g(k)\n",
    "    return j"
   ]
  },
  {
   "cell_type": "markdown",
   "metadata": {},
   "source": [
    "Many colour case"
   ]
  },
  {
   "cell_type": "code",
   "execution_count": 12,
   "metadata": {
    "collapsed": false
   },
   "outputs": [],
   "source": [
    "def g(x,P):\n",
    "    for p in P:            #check all coin colour proportions\n",
    "        if x * p % 1 != 0: #if x cannot be split into these proportions\n",
    "            return 0       #no g pattern can be formed\n",
    "\n",
    "    J = [g(k, P) * k for k in factors(x)[:-1]] #J is list of all g(x)*x elements\n",
    "    M = [int(fct(x * p)) for p in P]           #M is list of all factorials\n",
    "    return int((fct(x)/prod(M) - sum(J))/x)    #use to calculate g patterns"
   ]
  },
  {
   "cell_type": "code",
   "execution_count": 13,
   "metadata": {
    "collapsed": true
   },
   "outputs": [],
   "source": [
    "def f(N):\n",
    "    x = sum(N)              #x is circle size\n",
    "    P = [n / x for n in N]  #P is proportion of each colour in circle\n",
    "    j = 0\n",
    "    for k in factors(x)[:]: #need total of all g patterns\n",
    "        j += g(k,P)\n",
    "    return j"
   ]
  },
  {
   "cell_type": "markdown",
   "metadata": {},
   "source": [
    "Exam"
   ]
  },
  {
   "cell_type": "code",
   "execution_count": null,
   "metadata": {
    "collapsed": false
   },
   "outputs": [],
   "source": [
    "def genQ():\n",
    "    global startcols, colourlist, totalcol, coin, col, totalcoin\n",
    "    startcols = ['Red','Orange','Yellow','Green','Blue','Indigo','Violet']\n",
    "    colourlist = startcols\n",
    "    totalcol = 1 + rand(1,len(colourlist))\n",
    "    coin = []\n",
    "    col = []\n",
    "    for i in range(0,totalcol):\n",
    "        coin.append(rand(1,7))\n",
    "        col.append(colourlist.pop(rand(len(colourlist))))\n",
    "    totalcoin = sum(coin)"
   ]
  },
  {
   "cell_type": "code",
   "execution_count": null,
   "metadata": {
    "collapsed": true
   },
   "outputs": [],
   "source": [
    "def askQ():\n",
    "    print(\"\\nYou have {} coins of {} different colours.\\n\".format(totalcoin,totalcol))\n",
    "    for i in range(0,totalcol):\n",
    "        print(\"{}: {}\".format(col[i],coin[i]))\n",
    "    sleep(.1)\n",
    "    guess = input(\"\\nHow many different ways are there of arranging these coins?\\n    \")\n",
    "    print(\"        Thinking\", end = \"\")\n",
    "    for i in range(0,3):\n",
    "        print(\".\", end = \"\")\n",
    "        sleep(1)\n",
    "    if guess == f(coin):\n",
    "        print(\"\\n\\n            WINNER!!!\")\n",
    "        return 1\n",
    "    else:\n",
    "        print(\"\\n\\n            Nope. Try harder.\")\n",
    "        return 0"
   ]
  },
  {
   "cell_type": "code",
   "execution_count": null,
   "metadata": {
    "collapsed": false
   },
   "outputs": [],
   "source": [
    "answered = 0\n",
    "correct = 0\n",
    "while answered < 3:\n",
    "    genQ()\n",
    "    while correct == 0:\n",
    "        correct = askQ()\n",
    "        answered += correct"
   ]
  },
  {
   "cell_type": "markdown",
   "metadata": {},
   "source": [
    "testing"
   ]
  },
  {
   "cell_type": "code",
   "execution_count": null,
   "metadata": {
    "collapsed": false
   },
   "outputs": [],
   "source": [
    "rand(9)\n",
    "len(colourlist)"
   ]
  },
  {
   "cell_type": "code",
   "execution_count": 77,
   "metadata": {
    "collapsed": true
   },
   "outputs": [],
   "source": [
    "from numpy.random import randint as rand"
   ]
  },
  {
   "cell_type": "code",
   "execution_count": 64,
   "metadata": {
    "collapsed": false
   },
   "outputs": [
    {
     "name": "stdout",
     "output_type": "stream",
     "text": [
      "1\n"
     ]
    }
   ],
   "source": [
    "print(f([1,10]))"
   ]
  },
  {
   "cell_type": "code",
   "execution_count": 15,
   "metadata": {
    "collapsed": false
   },
   "outputs": [
    {
     "name": "stdout",
     "output_type": "stream",
     "text": [
      "6.0\n",
      "<class 'list'>\n",
      "<class 'float'>\n",
      "[1.6666666666666667, 2.0, 2.3333333333333335]\n"
     ]
    },
    {
     "ename": "TypeError",
     "evalue": "unsupported operand type(s) for +=: 'type' and 'int'",
     "output_type": "error",
     "traceback": [
      "\u001b[0;31m---------------------------------------------------------------------------\u001b[0m",
      "\u001b[0;31mTypeError\u001b[0m                                 Traceback (most recent call last)",
      "\u001b[0;32m<ipython-input-15-ff77192cd259>\u001b[0m in \u001b[0;36m<module>\u001b[0;34m()\u001b[0m\n\u001b[1;32m      6\u001b[0m \u001b[0mprint\u001b[0m\u001b[1;33m(\u001b[0m\u001b[0mP\u001b[0m\u001b[1;33m)\u001b[0m\u001b[1;33m\u001b[0m\u001b[0m\n\u001b[1;32m      7\u001b[0m \u001b[0mj\u001b[0m \u001b[1;33m=\u001b[0m \u001b[0mint\u001b[0m\u001b[1;33m\u001b[0m\u001b[0m\n\u001b[0;32m----> 8\u001b[0;31m \u001b[0mj\u001b[0m \u001b[1;33m+=\u001b[0m \u001b[1;36m7\u001b[0m\u001b[1;33m\u001b[0m\u001b[0m\n\u001b[0m",
      "\u001b[0;31mTypeError\u001b[0m: unsupported operand type(s) for +=: 'type' and 'int'"
     ]
    }
   ],
   "source": [
    "N = [5,6,7]\n",
    "P = [n / 3 for n in N]\n",
    "print(sum(P))\n",
    "print(type(P))\n",
    "print(type(P[1]))\n",
    "print(P)\n",
    "\n",
    "j += 7a"
   ]
  },
  {
   "cell_type": "code",
   "execution_count": 238,
   "metadata": {
    "collapsed": false
   },
   "outputs": [
    {
     "name": "stdout",
     "output_type": "stream",
     "text": [
      "[1, 2]\n",
      "1\n",
      "[1, 2, 4]\n",
      "[1, 2]\n",
      "1\n",
      "[1, 2, 3, 6]\n",
      "4\n",
      "80\n",
      "Choose the number of coins: 20\n",
      "9252\n"
     ]
    }
   ],
   "source": [
    "print(factors(2))\n",
    "print(g(2))\n",
    "\n",
    "print(factors(4))\n",
    "print(factors(4)[:-1])\n",
    "print(g(4))\n",
    "print(factors(6))\n",
    "print(f(6))\n",
    "\n",
    "print(f(12))\n",
    "\n",
    "result = int(input(\"Choose the number of coins: \"))\n",
    "print(f(result))"
   ]
  },
  {
   "cell_type": "code",
   "execution_count": null,
   "metadata": {
    "collapsed": true
   },
   "outputs": [],
   "source": []
  },
  {
   "cell_type": "code",
   "execution_count": 1,
   "metadata": {
    "collapsed": false
   },
   "outputs": [
    {
     "data": {
      "text/plain": [
       "0.20000000000000018"
      ]
     },
     "execution_count": 1,
     "metadata": {},
     "output_type": "execute_result"
    }
   ],
   "source": [
    "5.2 % 1"
   ]
  },
  {
   "cell_type": "markdown",
   "metadata": {},
   "source": [
    "##### "
   ]
  },
  {
   "cell_type": "code",
   "execution_count": 120,
   "metadata": {
    "collapsed": false
   },
   "outputs": [
    {
     "name": "stdout",
     "output_type": "stream",
     "text": [
      "[1, 2, 4, 5, 10, 100]\n",
      "122\n",
      "1\n",
      "2\n",
      "4\n",
      "5\n",
      "10\n"
     ]
    }
   ],
   "source": [
    "test = target(100)\n",
    "print(test.factors)\n",
    "print(test.factorsum)\n",
    "g(test)"
   ]
  },
  {
   "cell_type": "code",
   "execution_count": 87,
   "metadata": {
    "collapsed": false
   },
   "outputs": [
    {
     "data": {
      "text/plain": [
       "False"
      ]
     },
     "execution_count": 87,
     "metadata": {},
     "output_type": "execute_result"
    }
   ],
   "source": [
    "6/7 == int(6/7)"
   ]
  },
  {
   "cell_type": "code",
   "execution_count": 88,
   "metadata": {
    "collapsed": false
   },
   "outputs": [
    {
     "data": {
      "text/plain": [
       "True"
      ]
     },
     "execution_count": 88,
     "metadata": {},
     "output_type": "execute_result"
    }
   ],
   "source": [
    "6/6 == int(6/6)"
   ]
  },
  {
   "cell_type": "code",
   "execution_count": null,
   "metadata": {
    "collapsed": true
   },
   "outputs": [],
   "source": []
  },
  {
   "cell_type": "raw",
   "metadata": {},
   "source": [
    "# "
   ]
  },
  {
   "cell_type": "markdown",
   "metadata": {
    "collapsed": false
   },
   "source": [
    "###### 6/7 == int(6/7)"
   ]
  },
  {
   "cell_type": "code",
   "execution_count": null,
   "metadata": {
    "collapsed": true
   },
   "outputs": [],
   "source": []
  },
  {
   "cell_type": "code",
   "execution_count": 32,
   "metadata": {
    "collapsed": false
   },
   "outputs": [
    {
     "name": "stdout",
     "output_type": "stream",
     "text": [
      "1\n",
      "2\n",
      "3\n",
      "4\n",
      "5\n",
      "6\n"
     ]
    }
   ],
   "source": [
    "factors(60)"
   ]
  },
  {
   "cell_type": "code",
   "execution_count": 28,
   "metadata": {
    "collapsed": false
   },
   "outputs": [
    {
     "data": {
      "text/plain": [
       "2"
      ]
     },
     "execution_count": 28,
     "metadata": {},
     "output_type": "execute_result"
    }
   ],
   "source": [
    "int(math.sqrt(6))"
   ]
  },
  {
   "cell_type": "code",
   "execution_count": 12,
   "metadata": {
    "collapsed": false
   },
   "outputs": [
    {
     "name": "stdout",
     "output_type": "stream",
     "text": [
      "We're on time 0\n",
      "We're on time 1\n",
      "We're on time 2\n"
     ]
    },
    {
     "ename": "TypeError",
     "evalue": "Can't convert 'int' object to str implicitly",
     "output_type": "error",
     "traceback": [
      "\u001b[0;31m---------------------------------------------------------------------------\u001b[0m",
      "\u001b[0;31mTypeError\u001b[0m                                 Traceback (most recent call last)",
      "\u001b[0;32m<ipython-input-12-d727bc2e2d99>\u001b[0m in \u001b[0;36m<module>\u001b[0;34m()\u001b[0m\n\u001b[1;32m      5\u001b[0m \u001b[0mx\u001b[0m \u001b[1;33m=\u001b[0m \u001b[1;36m1\u001b[0m\u001b[1;33m\u001b[0m\u001b[0m\n\u001b[1;32m      6\u001b[0m \u001b[1;32mwhile\u001b[0m \u001b[1;32mTrue\u001b[0m\u001b[1;33m:\u001b[0m\u001b[1;33m\u001b[0m\u001b[0m\n\u001b[0;32m----> 7\u001b[0;31m     \u001b[0mprint\u001b[0m\u001b[1;33m(\u001b[0m\u001b[1;34m\"To infinity and beyond! We're getting close, on \"\u001b[0m \u001b[1;33m+\u001b[0m \u001b[0mx\u001b[0m \u001b[1;33m+\u001b[0m \u001b[1;34m\" now!\"\u001b[0m\u001b[1;33m)\u001b[0m\u001b[1;33m\u001b[0m\u001b[0m\n\u001b[0m\u001b[1;32m      8\u001b[0m     \u001b[0mx\u001b[0m \u001b[1;33m+=\u001b[0m \u001b[1;36m1\u001b[0m\u001b[1;33m\u001b[0m\u001b[0m\n",
      "\u001b[0;31mTypeError\u001b[0m: Can't convert 'int' object to str implicitly"
     ]
    }
   ],
   "source": [
    "for x in range(0, 3):\n",
    "    print(\"We're on time \" + str(x))\n",
    "    \n"
   ]
  }
 ],
 "metadata": {
  "anaconda-cloud": {},
  "kernelspec": {
   "display_name": "Python [default]",
   "language": "python",
   "name": "python3"
  },
  "language_info": {
   "codemirror_mode": {
    "name": "ipython",
    "version": 3
   },
   "file_extension": ".py",
   "mimetype": "text/x-python",
   "name": "python",
   "nbconvert_exporter": "python",
   "pygments_lexer": "ipython3",
   "version": "3.5.2"
  }
 },
 "nbformat": 4,
 "nbformat_minor": 1
}
